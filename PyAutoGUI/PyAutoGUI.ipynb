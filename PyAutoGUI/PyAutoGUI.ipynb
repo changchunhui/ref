{
 "cells": [
  {
   "cell_type": "markdown",
   "metadata": {},
   "source": [
    "### PyAutoGUI"
   ]
  },
  {
   "cell_type": "code",
   "execution_count": 1,
   "metadata": {},
   "outputs": [],
   "source": [
    "# pip install pyautogui"
   ]
  },
  {
   "cell_type": "code",
   "execution_count": 15,
   "metadata": {},
   "outputs": [],
   "source": [
    "# pip install opencv-python"
   ]
  },
  {
   "cell_type": "code",
   "execution_count": 2,
   "metadata": {},
   "outputs": [],
   "source": [
    "# Consolidate all imports here\n",
    "import pyautogui\n",
    "import pandas as pd\n",
    "import time\n",
    "import os"
   ]
  },
  {
   "cell_type": "code",
   "execution_count": 3,
   "metadata": {},
   "outputs": [
    {
     "name": "stdout",
     "output_type": "stream",
     "text": [
      "root: ['img', 'img_match.xlsx', 'PyAutoGUI.ipynb']\n",
      "img subfolder: ['a.png', 'b.png', 'c.png', 'd.png']\n"
     ]
    }
   ],
   "source": [
    "print('root:', os.listdir())\n",
    "print('img subfolder:', os.listdir('img'))"
   ]
  },
  {
   "cell_type": "markdown",
   "metadata": {},
   "source": [
    "### Using Table Parameters for Movement Control"
   ]
  },
  {
   "cell_type": "code",
   "execution_count": 4,
   "metadata": {},
   "outputs": [
    {
     "data": {
      "text/html": [
       "<div>\n",
       "<style scoped>\n",
       "    .dataframe tbody tr th:only-of-type {\n",
       "        vertical-align: middle;\n",
       "    }\n",
       "\n",
       "    .dataframe tbody tr th {\n",
       "        vertical-align: top;\n",
       "    }\n",
       "\n",
       "    .dataframe thead th {\n",
       "        text-align: right;\n",
       "    }\n",
       "</style>\n",
       "<table border=\"1\" class=\"dataframe\">\n",
       "  <thead>\n",
       "    <tr style=\"text-align: right;\">\n",
       "      <th></th>\n",
       "      <th>pattern</th>\n",
       "      <th>starting_x</th>\n",
       "      <th>starting_y</th>\n",
       "      <th>offset_x1</th>\n",
       "      <th>offset_y1</th>\n",
       "      <th>offset_x2</th>\n",
       "      <th>offset_y2</th>\n",
       "      <th>offset_x3</th>\n",
       "      <th>offset_y3</th>\n",
       "      <th>offset_x4</th>\n",
       "      <th>offset_y4</th>\n",
       "      <th>move_duration</th>\n",
       "    </tr>\n",
       "  </thead>\n",
       "  <tbody>\n",
       "    <tr>\n",
       "      <th>0</th>\n",
       "      <td>a</td>\n",
       "      <td>255</td>\n",
       "      <td>280</td>\n",
       "      <td>100</td>\n",
       "      <td>0</td>\n",
       "      <td>0</td>\n",
       "      <td>100</td>\n",
       "      <td>-100</td>\n",
       "      <td>0</td>\n",
       "      <td>0</td>\n",
       "      <td>-100</td>\n",
       "      <td>1</td>\n",
       "    </tr>\n",
       "    <tr>\n",
       "      <th>1</th>\n",
       "      <td>b</td>\n",
       "      <td>1435</td>\n",
       "      <td>237</td>\n",
       "      <td>100</td>\n",
       "      <td>0</td>\n",
       "      <td>0</td>\n",
       "      <td>100</td>\n",
       "      <td>-100</td>\n",
       "      <td>0</td>\n",
       "      <td>0</td>\n",
       "      <td>-100</td>\n",
       "      <td>1</td>\n",
       "    </tr>\n",
       "    <tr>\n",
       "      <th>2</th>\n",
       "      <td>c</td>\n",
       "      <td>282</td>\n",
       "      <td>625</td>\n",
       "      <td>100</td>\n",
       "      <td>0</td>\n",
       "      <td>0</td>\n",
       "      <td>100</td>\n",
       "      <td>-100</td>\n",
       "      <td>0</td>\n",
       "      <td>0</td>\n",
       "      <td>-100</td>\n",
       "      <td>1</td>\n",
       "    </tr>\n",
       "    <tr>\n",
       "      <th>3</th>\n",
       "      <td>d</td>\n",
       "      <td>1419</td>\n",
       "      <td>719</td>\n",
       "      <td>100</td>\n",
       "      <td>0</td>\n",
       "      <td>0</td>\n",
       "      <td>100</td>\n",
       "      <td>-100</td>\n",
       "      <td>0</td>\n",
       "      <td>0</td>\n",
       "      <td>-100</td>\n",
       "      <td>1</td>\n",
       "    </tr>\n",
       "  </tbody>\n",
       "</table>\n",
       "</div>"
      ],
      "text/plain": [
       "  pattern  starting_x  starting_y  offset_x1  offset_y1  offset_x2  offset_y2  \\\n",
       "0       a         255         280        100          0          0        100   \n",
       "1       b        1435         237        100          0          0        100   \n",
       "2       c         282         625        100          0          0        100   \n",
       "3       d        1419         719        100          0          0        100   \n",
       "\n",
       "   offset_x3  offset_y3  offset_x4  offset_y4  move_duration  \n",
       "0       -100          0          0       -100              1  \n",
       "1       -100          0          0       -100              1  \n",
       "2       -100          0          0       -100              1  \n",
       "3       -100          0          0       -100              1  "
      ]
     },
     "execution_count": 4,
     "metadata": {},
     "output_type": "execute_result"
    }
   ],
   "source": [
    "# Create dataframe of pattern movement parameters\n",
    "\n",
    "patterns = pd.DataFrame({\n",
    "    'pattern': ['a', 'b', 'c', 'd'],\n",
    "    'starting_x': [255, 1435, 282, 1419], \n",
    "    'starting_y': [280, 237, 625, 719], \n",
    "    'offset_x1': [100, 100, 100, 100],\n",
    "    'offset_y1': [0, 0, 0, 0],\n",
    "    'offset_x2': [0, 0, 0, 0], \n",
    "    'offset_y2': [100, 100, 100, 100],\n",
    "    'offset_x3': [-100, -100, -100, -100], \n",
    "    'offset_y3': [0, 0, 0, 0],\n",
    "    'offset_x4': [0, 0, 0, 0], \n",
    "    'offset_y4': [-100, -100, -100, -100], \n",
    "    'move_duration': [1, 1, 1, 1]\n",
    "})\n",
    "\n",
    "patterns"
   ]
  },
  {
   "cell_type": "code",
   "execution_count": 5,
   "metadata": {},
   "outputs": [],
   "source": [
    "# pyautogui.moveRel(100, 0, 1)\n",
    "# pyautogui.moveRel(0, 100, 1)\n",
    "# pyautogui.moveRel(-100, 0, 1)\n",
    "# pyautogui.moveRel(0, -100, 1)"
   ]
  },
  {
   "cell_type": "code",
   "execution_count": 6,
   "metadata": {},
   "outputs": [],
   "source": [
    "# Intantiate counter for tracking\n",
    "count = len(patterns.index) - 1"
   ]
  },
  {
   "cell_type": "code",
   "execution_count": 7,
   "metadata": {},
   "outputs": [],
   "source": [
    "# Create custom function for movement sequence\n",
    "def movement_sequence(p):    \n",
    "    global count    # Set scope of count to global variable so we can decrement it as a counter\n",
    "    \n",
    "    starting_x = patterns['starting_x'][patterns['pattern']==p].item()\n",
    "    starting_y = patterns['starting_y'][patterns['pattern']==p].item()\n",
    "    offset_x1 = patterns['offset_x1'][patterns['pattern']==p].item()\n",
    "    offset_y1 = patterns['offset_y1'][patterns['pattern']==p].item()\n",
    "    offset_x2 = patterns['offset_x2'][patterns['pattern']==p].item()\n",
    "    offset_y2 = patterns['offset_y2'][patterns['pattern']==p].item()\n",
    "    offset_x3 = patterns['offset_x3'][patterns['pattern']==p].item()\n",
    "    offset_y3 = patterns['offset_y3'][patterns['pattern']==p].item()\n",
    "    offset_x4 = patterns['offset_x4'][patterns['pattern']==p].item()\n",
    "    offset_y4 = patterns['offset_y4'][patterns['pattern']==p].item()\n",
    "    move_duration = patterns['move_duration'][patterns['pattern']==p].item()\n",
    "\n",
    "    pyautogui.moveTo(starting_x, starting_y)\n",
    "    pyautogui.moveRel(offset_x1, offset_y1, move_duration)\n",
    "    pyautogui.moveRel(offset_x2, offset_y2, move_duration)\n",
    "    pyautogui.moveRel(offset_x3, offset_y3, move_duration)\n",
    "    pyautogui.moveRel(offset_x4, offset_y4, move_duration)\n",
    "    print(f'Pattern {p} complete - {count} patterns remaining')\n",
    "    \n",
    "    count = count - 1\n",
    "    \n",
    "    time.sleep(1)"
   ]
  },
  {
   "cell_type": "code",
   "execution_count": 8,
   "metadata": {},
   "outputs": [
    {
     "name": "stdout",
     "output_type": "stream",
     "text": [
      "Pattern a complete - 3 patterns remaining\n",
      "Pattern b complete - 2 patterns remaining\n",
      "Pattern c complete - 1 patterns remaining\n",
      "Pattern d complete - 0 patterns remaining\n"
     ]
    }
   ],
   "source": [
    "# Execute all pattern sequences\n",
    "# Should trace out a square in 4 corners of the screen in Z pattern (top L, top R, bottom L, bottom R\n",
    "for i in patterns['pattern']:\n",
    "    movement_sequence(i)"
   ]
  },
  {
   "cell_type": "markdown",
   "metadata": {},
   "source": [
    "### Image Matching"
   ]
  },
  {
   "cell_type": "code",
   "execution_count": 9,
   "metadata": {},
   "outputs": [],
   "source": [
    "def find_image(name):\n",
    "    r = None\n",
    "    while r is None:\n",
    "        r = pyautogui.locateCenterOnScreen(f'img\\\\{name}.png', confidence=0.80)\n",
    "    x = pyautogui.locateCenterOnScreen(f'img\\\\{name}.png', confidence=0.80)\n",
    "    pyautogui.moveTo(x)\n",
    "    print(f'Pattern {name} located')"
   ]
  },
  {
   "cell_type": "code",
   "execution_count": 14,
   "metadata": {},
   "outputs": [
    {
     "name": "stdout",
     "output_type": "stream",
     "text": [
      "Pattern d located\n"
     ]
    }
   ],
   "source": [
    "find_image('d')"
   ]
  },
  {
   "cell_type": "code",
   "execution_count": 26,
   "metadata": {},
   "outputs": [],
   "source": [
    "# Create variant of movement_sequence function using image match as input\n",
    "def movement_sequence_img_input(name):    \n",
    "    global count    # Set scope of count to global variable so we can decrement it as a counter\n",
    "    \n",
    "    # Find image\n",
    "    r = None\n",
    "    while r is None:\n",
    "        r = pyautogui.locateCenterOnScreen(f'img\\\\{name}.png', confidence=0.80)\n",
    "    p = pyautogui.locateCenterOnScreen(f'img\\\\{name}.png', confidence=0.80)\n",
    "    pyautogui.moveTo(p)\n",
    "\n",
    "    time.sleep(1)\n",
    "\n",
    "    starting_x = patterns['starting_x'][patterns['pattern']==name].item()\n",
    "    starting_y = patterns['starting_y'][patterns['pattern']==name].item()\n",
    "    offset_x1 = patterns['offset_x1'][patterns['pattern']==name].item()\n",
    "    offset_y1 = patterns['offset_y1'][patterns['pattern']==name].item()\n",
    "    offset_x2 = patterns['offset_x2'][patterns['pattern']==name].item()\n",
    "    offset_y2 = patterns['offset_y2'][patterns['pattern']==name].item()\n",
    "    offset_x3 = patterns['offset_x3'][patterns['pattern']==name].item()\n",
    "    offset_y3 = patterns['offset_y3'][patterns['pattern']==name].item()\n",
    "    offset_x4 = patterns['offset_x4'][patterns['pattern']==name].item()\n",
    "    offset_y4 = patterns['offset_y4'][patterns['pattern']==name].item()\n",
    "    move_duration = patterns['move_duration'][patterns['pattern']==name].item()\n",
    "\n",
    "    pyautogui.moveTo(starting_x, starting_y)\n",
    "    pyautogui.moveRel(offset_x1, offset_y1, move_duration)\n",
    "    pyautogui.moveRel(offset_x2, offset_y2, move_duration)\n",
    "    pyautogui.moveRel(offset_x3, offset_y3, move_duration)\n",
    "    pyautogui.moveRel(offset_x4, offset_y4, move_duration)\n",
    "    print(f'Pattern {name} complete')\n",
    "    \n",
    "    time.sleep(1)"
   ]
  },
  {
   "cell_type": "code",
   "execution_count": 30,
   "metadata": {},
   "outputs": [
    {
     "name": "stdout",
     "output_type": "stream",
     "text": [
      "Pattern c complete\n"
     ]
    }
   ],
   "source": [
    "movement_sequence_img_input('c')"
   ]
  },
  {
   "cell_type": "code",
   "execution_count": null,
   "metadata": {},
   "outputs": [],
   "source": []
  }
 ],
 "metadata": {
  "interpreter": {
   "hash": "7b40fdf2b644df19ef413ec58fc52bf397609ade48bc1ff7d609a99de70c5f5c"
  },
  "kernelspec": {
   "display_name": "Python 3.9.6 64-bit",
   "language": "python",
   "name": "python3"
  },
  "language_info": {
   "codemirror_mode": {
    "name": "ipython",
    "version": 3
   },
   "file_extension": ".py",
   "mimetype": "text/x-python",
   "name": "python",
   "nbconvert_exporter": "python",
   "pygments_lexer": "ipython3",
   "version": "3.9.6"
  },
  "orig_nbformat": 4
 },
 "nbformat": 4,
 "nbformat_minor": 2
}
